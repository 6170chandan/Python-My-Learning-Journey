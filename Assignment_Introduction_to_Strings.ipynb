{
  "nbformat": 4,
  "nbformat_minor": 0,
  "metadata": {
    "kernelspec": {
      "display_name": "Python 3",
      "language": "python",
      "name": "python3"
    },
    "language_info": {
      "codemirror_mode": {
        "name": "ipython",
        "version": 3
      },
      "file_extension": ".py",
      "mimetype": "text/x-python",
      "name": "python",
      "nbconvert_exporter": "python",
      "pygments_lexer": "ipython3",
      "version": "3.7.4"
    },
    "colab": {
      "name": "Assignment -  Introduction to Strings.ipynb",
      "provenance": [],
      "collapsed_sections": [],
      "include_colab_link": true
    }
  },
  "cells": [
    {
      "cell_type": "markdown",
      "metadata": {
        "id": "view-in-github",
        "colab_type": "text"
      },
      "source": [
        "<a href=\"https://colab.research.google.com/github/6170chandan/Python-My-Learning-Journey/blob/Assignment-on-Strings/Assignment_Introduction_to_Strings.ipynb\" target=\"_parent\"><img src=\"https://colab.research.google.com/assets/colab-badge.svg\" alt=\"Open In Colab\"/></a>"
      ]
    },
    {
      "cell_type": "markdown",
      "metadata": {
        "id": "uoGoqLiHFo3U"
      },
      "source": [
        "## <u>While doing this assignment only use those concepts which have been taught till now</u>"
      ]
    },
    {
      "cell_type": "markdown",
      "metadata": {
        "id": "LJJbprE6Fo3V"
      },
      "source": [
        "## <u>Problem 1</u>\n",
        "\n",
        "You are given a sentence which reads <b>\"Wikipedia is a free online encyclopedia, created and edited by volunteers around the world and hosted by the Wikimedia Foundation.\"</b>\n",
        "\n",
        "Find the number of words in the given sentence."
      ]
    },
    {
      "cell_type": "code",
      "metadata": {
        "id": "bNs1w7lDFo3W"
      },
      "source": [
        "# Store the given sentence in a variable\n",
        "sentence = \"Wikipedia is a free online encyclopedia, created and edited by volunteers around the world and hosted by the Wikimedia Foundation.\""
      ],
      "execution_count": 1,
      "outputs": []
    },
    {
      "cell_type": "code",
      "metadata": {
        "id": "0pwUoE0VFo3b",
        "colab": {
          "base_uri": "https://localhost:8080/"
        },
        "outputId": "d23def27-5093-42f2-e517-4aa28b83f726"
      },
      "source": [
        "# Calculate the total number of words in the sentence.  Hint : Use the count() method\n",
        "num_of_words = len(sentence)-sentence.count(\" \")\n",
        "print(num_of_words)"
      ],
      "execution_count": 15,
      "outputs": [
        {
          "output_type": "stream",
          "name": "stdout",
          "text": [
            "111\n"
          ]
        }
      ]
    },
    {
      "cell_type": "code",
      "source": [
        "sentence.count('Wiki')"
      ],
      "metadata": {
        "colab": {
          "base_uri": "https://localhost:8080/"
        },
        "id": "z6sOvhpREHxl",
        "outputId": "0ebf56e7-5d49-4db1-c422-2f4c175db22e"
      },
      "execution_count": 20,
      "outputs": [
        {
          "output_type": "execute_result",
          "data": {
            "text/plain": [
              "2"
            ]
          },
          "metadata": {},
          "execution_count": 20
        }
      ]
    },
    {
      "cell_type": "markdown",
      "metadata": {
        "id": "KNwy8gqZFo3h"
      },
      "source": [
        "## <u>Problem 2 </u>\n",
        "\n",
        "Write a Python code which takes a number and returns a corresponding string of hyphens. For example if the number is 3, it will return '---' , if the number is 5 it will return '-----'"
      ]
    },
    {
      "cell_type": "code",
      "metadata": {
        "id": "pA80LvUtFo3i",
        "colab": {
          "base_uri": "https://localhost:8080/"
        },
        "outputId": "69c1d03d-5418-4669-9aff-d177aba3a01e"
      },
      "source": [
        "# Store the user input in a variable\n",
        "inputted_number = int(input())"
      ],
      "execution_count": 23,
      "outputs": [
        {
          "name": "stdout",
          "output_type": "stream",
          "text": [
            "6\n"
          ]
        }
      ]
    },
    {
      "cell_type": "code",
      "metadata": {
        "id": "tX6VPyrQFo3m"
      },
      "source": [
        "# Create a string of equivalent number of hyphens. Hint : remember what happens when we multiply string by a number?\n",
        "string_of_hyphens = inputted_number * \"-\""
      ],
      "execution_count": 24,
      "outputs": []
    },
    {
      "cell_type": "code",
      "metadata": {
        "id": "AfJ1TmZVFo3s",
        "colab": {
          "base_uri": "https://localhost:8080/",
          "height": 36
        },
        "outputId": "40283c73-66fd-428c-a454-55e6d5c29c26"
      },
      "source": [
        "# Print the string of hyphens\n",
        "string_of_hyphens"
      ],
      "execution_count": 25,
      "outputs": [
        {
          "output_type": "execute_result",
          "data": {
            "text/plain": [
              "'------'"
            ],
            "application/vnd.google.colaboratory.intrinsic+json": {
              "type": "string"
            }
          },
          "metadata": {},
          "execution_count": 25
        }
      ]
    },
    {
      "cell_type": "markdown",
      "metadata": {
        "id": "hCG8HmhRFo3u"
      },
      "source": [
        "## <u> Problem 3 </u>\n",
        "\n",
        "A string can be called a safe bridge if it has no gaps in it i.e, no spaces. You are supposed to take an input from the user and print whether the string is a safe bridge or not."
      ]
    },
    {
      "cell_type": "code",
      "metadata": {
        "id": "QLoggGagFo3x",
        "outputId": "f39a5d11-a81e-47c8-8a25-b30b634760f9",
        "colab": {
          "base_uri": "https://localhost:8080/"
        }
      },
      "source": [
        "# Store the user input in a variable\n",
        "bridge = input()"
      ],
      "execution_count": 40,
      "outputs": [
        {
          "name": "stdout",
          "output_type": "stream",
          "text": [
            "Flying car\n"
          ]
        }
      ]
    },
    {
      "cell_type": "code",
      "metadata": {
        "id": "Zv5UgGr8Fo31",
        "colab": {
          "base_uri": "https://localhost:8080/"
        },
        "outputId": "b38f5005-487c-4fa8-915a-e4241c4b5a32"
      },
      "source": [
        "# Return True if the bridge is safe and False if the bridge is not safe. Hint : Use the find() method\n",
        "is_safe_bridge = bool(bridge.find(\"\"))\n",
        "is_safe_bridge"
      ],
      "execution_count": 41,
      "outputs": [
        {
          "output_type": "execute_result",
          "data": {
            "text/plain": [
              "False"
            ]
          },
          "metadata": {},
          "execution_count": 41
        }
      ]
    },
    {
      "cell_type": "code",
      "metadata": {
        "id": "TBCckeOXFo35",
        "colab": {
          "base_uri": "https://localhost:8080/"
        },
        "outputId": "84accce8-646e-4743-8310-5ac418a57deb"
      },
      "source": [
        "# Fill in the blanks\n",
        "print(f\"It is {is_safe_bridge} that the bridge is a safe bridge\" )"
      ],
      "execution_count": 42,
      "outputs": [
        {
          "output_type": "stream",
          "name": "stdout",
          "text": [
            "It is False that the bridge is a safe bridge\n"
          ]
        }
      ]
    },
    {
      "cell_type": "markdown",
      "metadata": {
        "id": "IO-p2ILHFo37"
      },
      "source": [
        "## <u>Problem 4</u>\n",
        "\n",
        "Count the number of D's in a string inputted by the user. This will be <b>case insensitive</b>."
      ]
    },
    {
      "cell_type": "code",
      "metadata": {
        "id": "CBqgtmkhFo38"
      },
      "source": [
        "# Store the user input in a variable\n",
        "user_string = 'Debris was scattered all over the yard in the densest region of Denmark'"
      ],
      "execution_count": 43,
      "outputs": []
    },
    {
      "cell_type": "code",
      "metadata": {
        "id": "-nKePpRMFo3-"
      },
      "source": [
        "# Store the count of letter D in the inputted string. Note this will be a case insensitive search\n",
        "D_counts = user_string.count('D')+user_string.count('d')"
      ],
      "execution_count": 54,
      "outputs": []
    },
    {
      "cell_type": "code",
      "metadata": {
        "id": "N9IXUH5AFo4A",
        "colab": {
          "base_uri": "https://localhost:8080/"
        },
        "outputId": "5774c70f-b682-4ce5-9eb8-80dc93b9af96"
      },
      "source": [
        "# Fill in the blanks\n",
        "print(f\"The total occurrence of D in the user_string is {D_counts}\")"
      ],
      "execution_count": 55,
      "outputs": [
        {
          "output_type": "stream",
          "name": "stdout",
          "text": [
            "The total occurrence of D in the user_string is 5\n"
          ]
        }
      ]
    },
    {
      "cell_type": "markdown",
      "metadata": {
        "id": "e40-mPXjFo4D"
      },
      "source": [
        "## <u>Problem 5</u>\n",
        "\n",
        "Check whether a given string is a palindrome. A palindrome is a word, number, phrase, or other sequence of characters which reads the same backward as forward, such as madam, racecar."
      ]
    },
    {
      "cell_type": "code",
      "metadata": {
        "id": "qs0ZYZkzFo4D",
        "colab": {
          "base_uri": "https://localhost:8080/",
          "height": 34
        },
        "outputId": "0495ca1d-90ea-4cff-d6a3-52765ec9922d"
      },
      "source": [
        "# Store the user input in a variable\n",
        "user_string = input()"
      ],
      "execution_count": null,
      "outputs": [
        {
          "output_type": "stream",
          "text": [
            "gbh\n"
          ],
          "name": "stdout"
        }
      ]
    },
    {
      "cell_type": "code",
      "metadata": {
        "id": "OTVGL16NFo4G"
      },
      "source": [
        "# Print True if a string is a Palindrome else print false\n"
      ],
      "execution_count": null,
      "outputs": []
    }
  ]
}